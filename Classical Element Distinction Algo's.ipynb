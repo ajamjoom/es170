{
 "cells": [
  {
   "cell_type": "code",
   "execution_count": 86,
   "metadata": {},
   "outputs": [],
   "source": [
    "from qutip import *\n",
    "from scipy.linalg import hadamard\n",
    "from qiskit import QuantumProgram\n",
    "import Qconfig\n",
    "import numpy as np\n",
    "import math\n",
    "import time\n",
    "import random\n",
    "Q_program = QuantumProgram()\n",
    "Q_program.set_api(Qconfig.APItoken, Qconfig.config['url']) # set the APIToken and API url"
   ]
  },
  {
   "cell_type": "code",
   "execution_count": 3,
   "metadata": {},
   "outputs": [],
   "source": [
    "# Implementation of the Classical Element Distiction Algorithms"
   ]
  },
  {
   "cell_type": "code",
   "execution_count": 37,
   "metadata": {},
   "outputs": [],
   "source": [
    "# Quick Sort Algorithm\n",
    "def quicksort(array):\n",
    "    # define subarrays\n",
    "    less = []\n",
    "    equal = []\n",
    "    greater = []\n",
    "\n",
    "    if len(array) > 1:\n",
    "        pivot = array[0]\n",
    "        for x in array:\n",
    "            if x < pivot:\n",
    "                less.append(x)\n",
    "            if x == pivot:\n",
    "                equal.append(x)\n",
    "            if x > pivot:\n",
    "                greater.append(x)\n",
    "        \n",
    "        sorted_array = quicksort(less)+equal+quicksort(greater)\n",
    "        return sorted_array\n",
    "    # if single element array, return array\n",
    "    else:  \n",
    "        return array"
   ]
  },
  {
   "cell_type": "code",
   "execution_count": 41,
   "metadata": {},
   "outputs": [
    {
     "data": {
      "text/plain": [
       "[1, 3, 4, 5, 6, 7, 12, 15]"
      ]
     },
     "execution_count": 41,
     "metadata": {},
     "output_type": "execute_result"
    }
   ],
   "source": [
    "# test array\n",
    "array = [12,4,5,6,7,3,1,15]\n",
    "\n",
    "quicksort(array)"
   ]
  },
  {
   "cell_type": "code",
   "execution_count": 82,
   "metadata": {},
   "outputs": [],
   "source": [
    "# compare elements in the array, if duplicate elements exist return False, otherwise return true.\n",
    "\n",
    "def element_distinct(A):\n",
    "    # initialize arrays\n",
    "    sort = []\n",
    "    unique = []\n",
    "    \n",
    "    # sort and find unique vals\n",
    "    sort = quicksort(A)\n",
    "    unique = np.unique(A)\n",
    "    \n",
    "    # sort and unique lengths\n",
    "    sort_len = len(sort)\n",
    "    unique_len = len(unique)\n",
    "    \n",
    "    if sort_len == unique_len:\n",
    "        return print(\"This is a Distinct Element Array: True.\")\n",
    "    else:\n",
    "        return print(\"This is a Distinct Element Array: False.\")\n"
   ]
  },
  {
   "cell_type": "code",
   "execution_count": 91,
   "metadata": {},
   "outputs": [
    {
     "name": "stdout",
     "output_type": "stream",
     "text": [
      "This is a Distinct Element Array: False.\n"
     ]
    },
    {
     "data": {
      "text/plain": [
       "1.1380414962768555"
      ]
     },
     "execution_count": 91,
     "metadata": {},
     "output_type": "execute_result"
    }
   ],
   "source": [
    "# create random list of 1000 numbers all between 1-50\n",
    "\n",
    "random_list = []\n",
    "for i in range(1000000):\n",
    "    random_list.append(random.randint(1,50))\n",
    "\n",
    "# test algo speed\n",
    "startTime = time.time()\n",
    "element_distinct(random_list)\n",
    "elapsedTime = time.time() - startTime\n",
    "elapsedTime\n"
   ]
  },
  {
   "cell_type": "code",
   "execution_count": 83,
   "metadata": {},
   "outputs": [
    {
     "name": "stdout",
     "output_type": "stream",
     "text": [
      "This is a Distinct Element Array: False.\n"
     ]
    },
    {
     "data": {
      "text/plain": [
       "0.0002536773681640625"
      ]
     },
     "execution_count": 83,
     "metadata": {},
     "output_type": "execute_result"
    }
   ],
   "source": [
    "startTime = time.time()\n",
    "a = [1,2,3,4,4]\n",
    "element_distinct(a)\n",
    "elapsedTime = time.time() - startTime\n",
    "elapsedTime"
   ]
  },
  {
   "cell_type": "code",
   "execution_count": 88,
   "metadata": {},
   "outputs": [
    {
     "name": "stdout",
     "output_type": "stream",
     "text": [
      "This is a Distinct Element Array: False.\n"
     ]
    },
    {
     "data": {
      "text/plain": [
       "0.00023937225341796875"
      ]
     },
     "execution_count": 88,
     "metadata": {},
     "output_type": "execute_result"
    }
   ],
   "source": [
    "# set method\n",
    "startTime = time.time()\n",
    "c = [1, 2, 3, 4, 4, 6]\n",
    "\n",
    "o = set(random_list)\n",
    "if len(o) != len(c):\n",
    "    print (\"This is a Distinct Element Array: False.\")\n",
    "else: \n",
    "    print (\"This is a Distinct Element Array: True.\")\n",
    "elapsedTime = time.time() - startTime\n",
    "elapsedTime"
   ]
  },
  {
   "cell_type": "code",
   "execution_count": null,
   "metadata": {},
   "outputs": [],
   "source": []
  },
  {
   "cell_type": "code",
   "execution_count": null,
   "metadata": {},
   "outputs": [],
   "source": []
  }
 ],
 "metadata": {
  "kernelspec": {
   "display_name": "Python 3",
   "language": "python",
   "name": "python3"
  },
  "language_info": {
   "codemirror_mode": {
    "name": "ipython",
    "version": 3
   },
   "file_extension": ".py",
   "mimetype": "text/x-python",
   "name": "python",
   "nbconvert_exporter": "python",
   "pygments_lexer": "ipython3",
   "version": "3.6.4"
  }
 },
 "nbformat": 4,
 "nbformat_minor": 2
}
